{
 "cells": [
  {
   "cell_type": "code",
   "execution_count": 1,
   "metadata": {},
   "outputs": [
    {
     "name": "stderr",
     "output_type": "stream",
     "text": [
      "2025-04-02 12:06:32.464331: I tensorflow/core/platform/cpu_feature_guard.cc:210] This TensorFlow binary is optimized to use available CPU instructions in performance-critical operations.\n",
      "To enable the following instructions: AVX2 AVX512F AVX512_VNNI FMA, in other operations, rebuild TensorFlow with the appropriate compiler flags.\n"
     ]
    }
   ],
   "source": [
    "import os\n",
    "import tensorflow as tf\n",
    "from tensorflow.keras.layers import Resizing, Rescaling, Dense\n",
    "from tensorflow.keras import Sequential\n",
    "from PIL import Image"
   ]
  },
  {
   "cell_type": "code",
   "execution_count": null,
   "metadata": {},
   "outputs": [
    {
     "name": "stdout",
     "output_type": "stream",
     "text": [
      "Total images available...\n",
      "Pituitary training: 1457\n",
      "Notumor training: 1595\n",
      "Glioma training: 1321\n",
      "Meningioma training: 1339\n",
      "Pituitary testing: 300\n",
      "Notumor testing: 405\n",
      "Glioma testing: 300\n",
      "Meningioma testing: 306\n"
     ]
    }
   ],
   "source": [
    "initial_max_height, initial_max_width = 0, 0\n",
    "initial_min_height, initial_min_width = 100000, 100000\n",
    "\n",
    "cancer_types = ['pituitary','notumor','glioma','meningioma']\n",
    "dataset_types = ['Training','Testing']\n",
    "data = {'Training':{'file_loc':[], 'label':[], 'input_data':[]},\n",
    "         'Testing':{'file_loc':[], 'label':[], 'input_data':[]}\n",
    "        }\n",
    "# Dataset sizes, and create dictionary with labels\n",
    "print('Total images available...')\n",
    "for dataset in dataset_types:\n",
    "    for cancer in cancer_types:\n",
    "        for loc in os.listdir(os.path.join('data',dataset,cancer)):\n",
    "            #print(os.path.join('data',dataset,cancer,loc))\n",
    "            if dataset == \"Training\":\n",
    "                data[\"Training\"][\"file_loc\"].append(os.path.join('data',dataset,cancer,loc))\n",
    "                data[\"Training\"][\"label\"].append(cancer)\n",
    "                image = tf.io.read_file(os.path.join('data',dataset,cancer,loc))\n",
    "                image_tensor = tf.image.decode_jpeg(image, channels = 1)           \n",
    "                data[\"Training\"][\"input_data\"].append(image_tensor)\n",
    "            else:\n",
    "                data[\"Testing\"][\"file_loc\"].append(os.path.join('data',dataset,cancer,loc))\n",
    "                data[\"Testing\"][\"label\"].append(cancer)\n",
    "                image = tf.io.read_file(os.path.join('data',dataset,cancer,loc))\n",
    "                image_tensor = tf.image.decode_jpeg(image, channels = 1)\n",
    "                data[\"Testing\"][\"input_data\"].append(image_tensor)\n",
    "\n",
    "        print(f'{cancer.capitalize()} {dataset.lower()}: {len(os.listdir(os.path.join('data',dataset,cancer)))}')\n",
    "\n",
    "\n",
    "\n"
   ]
  },
  {
   "cell_type": "code",
   "execution_count": null,
   "metadata": {},
   "outputs": [
    {
     "data": {
      "text/plain": [
       "1"
      ]
     },
     "execution_count": 30,
     "metadata": {},
     "output_type": "execute_result"
    }
   ],
   "source": [
    "# (height, width, channels = 1)\n",
    "#print(image_tensor.shape)\n",
    "\n",
    "#Image.open('data/Training/notumor/Tr-no_0021.jpg')\n",
    "#Image.open(data['Training']['file_loc'][1596])\n",
    "data['Training']['input_data'][1596].shape[1]\n",
    "\n"
   ]
  },
  {
   "cell_type": "code",
   "execution_count": 38,
   "metadata": {},
   "outputs": [
    {
     "name": "stdout",
     "output_type": "stream",
     "text": [
      "Min picture height (pixels): 168\n",
      "Max picture height (pixels): 1446\n",
      "Min picture width (pixels): 150\n",
      "Max picture width (pixels): 1920\n"
     ]
    }
   ],
   "source": [
    "# Min and max pixels: will need to crop/pad\n",
    "height_data = [dat.shape[0] for dat in data[\"Training\"][\"input_data\"]]\n",
    "width_data = [dat.shape[1] for dat in data[\"Training\"][\"input_data\"]]\n",
    "\n",
    "print(f'Min picture height (pixels): {min(height_data)}')\n",
    "print(f'Max picture height (pixels): {max(height_data)}')\n",
    "\n",
    "print(f'Min picture width (pixels): {min(width_data)}')\n",
    "print(f'Max picture width (pixels): {max(width_data)}')"
   ]
  }
 ],
 "metadata": {
  "kernelspec": {
   "display_name": "env",
   "language": "python",
   "name": "python3"
  },
  "language_info": {
   "codemirror_mode": {
    "name": "ipython",
    "version": 3
   },
   "file_extension": ".py",
   "mimetype": "text/x-python",
   "name": "python",
   "nbconvert_exporter": "python",
   "pygments_lexer": "ipython3",
   "version": "3.12.4"
  }
 },
 "nbformat": 4,
 "nbformat_minor": 2
}
