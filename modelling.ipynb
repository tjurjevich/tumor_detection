{
 "cells": [
  {
   "cell_type": "code",
   "execution_count": null,
   "metadata": {},
   "outputs": [],
   "source": [
    "import os\n",
    "import tensorflow as tf\n",
    "from tensorflow.keras.layers import Resizing, Rescaling, Dense\n",
    "from tensorflow.keras import Sequential\n",
    "from PIL import Image"
   ]
  },
  {
   "cell_type": "code",
   "execution_count": 29,
   "metadata": {},
   "outputs": [
    {
     "name": "stdout",
     "output_type": "stream",
     "text": [
      "Total images available...\n",
      "Pituitary training: 1457\n",
      "Notumor training: 1595\n",
      "Glioma training: 1321\n",
      "Meningioma training: 1339\n",
      "Pituitary testing: 300\n",
      "Notumor testing: 405\n",
      "Glioma testing: 300\n",
      "Meningioma testing: 306\n"
     ]
    }
   ],
   "source": [
    "\n",
    "cancer_types = ['pituitary','notumor','glioma','meningioma']\n",
    "dataset_types = ['Training','Testing']\n",
    "\n",
    "# Dataset sizes\n",
    "print('Total images available...')\n",
    "for dataset in dataset_types:\n",
    "    for cancer in cancer_types:\n",
    "        print(f'{cancer.capitalize()} {dataset.lower()}: {len(os.listdir(os.path.join('data',dataset,cancer)))}')\n",
    "\n"
   ]
  },
  {
   "cell_type": "code",
   "execution_count": 42,
   "metadata": {},
   "outputs": [
    {
     "name": "stdout",
     "output_type": "stream",
     "text": [
      "830\n",
      "1024\n"
     ]
    }
   ],
   "source": [
    "image = tf.io.read_file('data/Training/notumor/Tr-no_0021.jpg')\n",
    "image_tensor = tf.image.decode_jpeg(image, channels = 1)\n",
    "print(len(image_tensor))\n",
    "print(len(image_tensor[0]))\n",
    "\n",
    "# Resize \n",
    "preprocess_image = Sequential([\n",
    "    Resizing(150,150),\n",
    "    Rescaling(1.0/255.0)\n",
    "])\n",
    "\n",
    "\n"
   ]
  }
 ],
 "metadata": {
  "kernelspec": {
   "display_name": "env",
   "language": "python",
   "name": "python3"
  },
  "language_info": {
   "codemirror_mode": {
    "name": "ipython",
    "version": 3
   },
   "file_extension": ".py",
   "mimetype": "text/x-python",
   "name": "python",
   "nbconvert_exporter": "python",
   "pygments_lexer": "ipython3",
   "version": "3.12.4"
  }
 },
 "nbformat": 4,
 "nbformat_minor": 2
}
